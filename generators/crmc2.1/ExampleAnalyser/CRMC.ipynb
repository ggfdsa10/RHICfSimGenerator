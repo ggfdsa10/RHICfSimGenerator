{
 "cells": [
  {
   "cell_type": "markdown",
   "metadata": {},
   "source": [
    "# Example to read and plot CRMC data"
   ]
  },
  {
   "cell_type": "code",
   "execution_count": 1,
   "metadata": {},
   "outputs": [],
   "source": [
    "import pyhepmc_ng as hep\n",
    "import numpy as np\n",
    "import os, sys\n",
    "%matplotlib inline\n",
    "import matplotlib.pyplot as plt"
   ]
  },
  {
   "cell_type": "code",
   "execution_count": 5,
   "metadata": {},
   "outputs": [
    {
     "name": "stdout",
     "output_type": "stream",
     "text": [
      "Number of events 100\n"
     ]
    },
    {
     "data": {
      "image/png": "[encoded data removed]",
      "text/plain": [
       "<Figure size 432x288 with 1 Axes>"
      ]
     },
     "metadata": {
      "needs_background": "light"
     },
     "output_type": "display_data"
    }
   ],
   "source": [
    "# note, we can so far only read \"hepmc3\" files, not \"hepmc3.gz\", thus, \n",
    "# either run crmc with \"-o hepmc3\" or run a dedicated command after crmc to \n",
    "# un-compress the files with \"gunzip *.gz\"\n",
    "\n",
    "fname = \"./crmc_eposlhc_324385492_p_p_6500.hepmc3\"  \n",
    "file = hep.ReaderAscii(fname)\n",
    "\n",
    "# output plots, binning\n",
    "dNdEta, dNdEtaBins = np.histogram([], bins=np.linspace(-9,9,30))\n",
    "\n",
    "# event loop in CRMC output file\n",
    "evt = hep.GenEvent()\n",
    "nEvt = 0\n",
    "for i, evt in enumerate(file):\n",
    "    \n",
    "    # event counter\n",
    "    nEvt += 1\n",
    "\n",
    "    # plot data collectors per event\n",
    "    dNdEtaData = [] \n",
    "    \n",
    "    # secondary particle loop\n",
    "    for p in evt.particles:\n",
    "        if (p.status != 1):\n",
    "            continue\n",
    "        dNdEtaData.append(p.momentum.eta())\n",
    "        \n",
    "    dNdEta += np.histogram(dNdEtaData, bins=dNdEtaBins)[0]\n",
    "    \n",
    "print (\"Number of events {}\".format(nEvt))\n",
    "\n",
    "plt.figure()\n",
    "binWidth = dNdEtaBins[1:] - dNdEtaBins[0:-1]\n",
    "plt.bar(dNdEtaBins[:-1], dNdEta/(binWidth*nEvt), label=\"dN/dEta CRMC\")\n",
    "plt.legend()\n",
    "plt.xlabel(\"Pseudorapidity $\\eta$\")\n",
    "plt.ylabel(\"$1/N_{evt} \\;\\; dN/d\\eta$\")\n",
    "plt.show()"
   ]
  },
  {
   "cell_type": "code",
   "execution_count": null,
   "metadata": {},
   "outputs": [],
   "source": []
  }
 ],
 "metadata": {
  "kernelspec": {
   "display_name": "Python 3",
   "language": "python",
   "name": "python3"
  },
  "language_info": {
   "codemirror_mode": {
    "name": "ipython",
    "version": 3
   },
   "file_extension": ".py",
   "mimetype": "text/x-python",
   "name": "python",
   "nbconvert_exporter": "python",
   "pygments_lexer": "ipython3",
   "version": "3.9.7"
  },
  "nbTranslate": {
   "displayLangs": [
    "da",
    "en"
   ],
   "hotkey": "alt-t",
   "langInMainMenu": true,
   "sourceLang": "en",
   "targetLang": "da",
   "useGoogleTranslate": true
  },
  "toc": {
   "base_numbering": 1,
   "nav_menu": {},
   "number_sections": true,
   "sideBar": true,
   "skip_h1_title": false,
   "title_cell": "Table of Contents",
   "title_sidebar": "Contents",
   "toc_cell": false,
   "toc_position": {},
   "toc_section_display": true,
   "toc_window_display": false
  }
 },
 "nbformat": 4,
 "nbformat_minor": 4
}
